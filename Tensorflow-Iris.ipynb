{
 "cells": [
  {
   "cell_type": "markdown",
   "metadata": {},
   "source": [
    "## SIMPLES MODELO DE CLASSIFICAÇÃO COM TENSORFLOW USANDO O DATASET IRIS"
   ]
  },
  {
   "cell_type": "code",
   "execution_count": 95,
   "metadata": {},
   "outputs": [],
   "source": [
    "from IPython import display\n",
    "import numpy as np # para computação numérica menos intensiva\n",
    "import pandas as pd\n",
    "from sklearn.datasets import load_iris\n",
    "import os # para criar pastas\n",
    "from matplotlib import pyplot as plt\n",
    "import tensorflow as tf\n",
    "\n",
    "# cria uma pasta para colocar os dados\n",
    "if not os.path.exists('tmp'):\n",
    "    os.makedirs('tmp')"
   ]
  },
  {
   "cell_type": "code",
   "execution_count": 2,
   "metadata": {},
   "outputs": [],
   "source": [
    "iris = load_iris()"
   ]
  },
  {
   "cell_type": "code",
   "execution_count": 145,
   "metadata": {},
   "outputs": [],
   "source": [
    "# SEPARA OS DADOS ENTRE TREINO E TESTE"
   ]
  },
  {
   "cell_type": "code",
   "execution_count": 168,
   "metadata": {},
   "outputs": [],
   "source": [
    "TRAIN_FRACTION = 0.7\n",
    "\n",
    "# junta os dados com label\n",
    "data_train_test = e = np.column_stack((iris.data, iris.target))\n",
    "\n",
    "# embaralha os dados\n",
    "np.random.shuffle(data_train_test)\n",
    "\n",
    "training_size = int(data_train_test.shape[0] * TRAIN_FRACTION)\n",
    "training_data = data_train_test[0:training_size, :]\n",
    "testing_data  = data_train_test[training_size:, :]"
   ]
  },
  {
   "cell_type": "code",
   "execution_count": 6,
   "metadata": {},
   "outputs": [],
   "source": [
    "# HIPER-PARÂMETROS"
   ]
  },
  {
   "cell_type": "code",
   "execution_count": 148,
   "metadata": {},
   "outputs": [],
   "source": [
    "lr = 0.01 # taxa de aprendizado\n",
    "batch_size = 20 # tamanho do mini-lote\n",
    "n_iter = 300 # total de iteraçẽos\n",
    "n_inputs = 4 # qtd de dados de entrada\n",
    "n_l1 = 512 # número de neurônios da primeira camada\n",
    "n_l2 = 512 # número de neurônios da segunda camada\n",
    "n_outputs = 3 # qtd de dados de saída"
   ]
  },
  {
   "cell_type": "code",
   "execution_count": 8,
   "metadata": {},
   "outputs": [],
   "source": [
    "# CONSTRUÇÃO DO MODELO"
   ]
  },
  {
   "cell_type": "code",
   "execution_count": 149,
   "metadata": {},
   "outputs": [],
   "source": [
    "def fully_connected_layer(inputs, n_neurons, name_scope, activation=None):\n",
    "    \n",
    "    '''Adiciona os nós de uma camadas ao grafo Tensorflow'''\n",
    "    with tf.name_scope(name_scope):\n",
    "    \n",
    "        # variáveis da camada\n",
    "        n_inputs = int(inputs.get_shape()[1])\n",
    "        W = tf.Variable(tf.truncated_normal([n_inputs, n_neurons]), name='Weights')\n",
    "        b = tf.Variable(tf.zeros([n_neurons]), name='biases')\n",
    "        \n",
    "        # operação linear\n",
    "        layer = tf.add(tf.matmul(inputs, W), b)\n",
    "        \n",
    "        # aplica a não linearidade\n",
    "        if activation == 'relu':\n",
    "            layer = tf.nn.relu(layer, name='relu')\n",
    "            \n",
    "        return layer\n",
    "    \n",
    "graph = tf.Graph() # cria um grafo\n",
    "with graph.as_default(): # abre o grafo para adicionar os nós\n",
    "    \n",
    "    # camadas de inputs\n",
    "    with tf.name_scope('input_layer'):\n",
    "        x_input = tf.placeholder(tf.float32, shape=[None, n_inputs], name='flores')\n",
    "        y_input = tf.placeholder(tf.int64, shape=[None], name='labels')\n",
    "        \n",
    "    # camada 01\n",
    "    l1 = fully_connected_layer(x_input, n_neurons=n_l1, name_scope='first_layer', activation='relu')\n",
    "    \n",
    "    # camada 02\n",
    "    l2 = fully_connected_layer(l1, n_neurons=n_l2, name_scope='second_layer', activation='relu')\n",
    "    \n",
    "    # camada de saída\n",
    "    logits = fully_connected_layer(l2, n_neurons=n_outputs, name_scope='output_layer')\n",
    "    \n",
    "    loss = tf.reduce_mean(tf.nn.sparse_softmax_cross_entropy_with_logits(labels=y_input, logits=logits), name='error')\n",
    "\n",
    "    # otimizador\n",
    "    optimizer = tf.train.AdamOptimizer(learning_rate=lr).minimize(loss)\n",
    "    \n",
    "    outputs = tf.argmax(logits, 1)\n",
    "    \n",
    "    correct_prediction = tf.equal(outputs, y_input)\n",
    "    accuracy = tf.reduce_mean(tf.cast(correct_prediction, tf.float32))\n",
    "    \n",
    "    # inicializador\n",
    "    init = tf.global_variables_initializer()\n",
    "    \n",
    "    # para salvar o modelo de treino\n",
    "    saver = tf.train.Saver()"
   ]
  },
  {
   "cell_type": "code",
   "execution_count": 47,
   "metadata": {},
   "outputs": [],
   "source": [
    "# EXECUÇÃO DO MODELO"
   ]
  },
  {
   "cell_type": "code",
   "execution_count": 150,
   "metadata": {},
   "outputs": [],
   "source": [
    "def show_chart_accuracy(arr_acc, step):\n",
    "    plt.figure(figsize=(10,10))\n",
    "    plt.subplot(221)\n",
    "    plt.plot(range(len(arr_acc)), arr_acc)\n",
    "    plt.title('Accuracy')\n",
    "    plt.ylabel('%')\n",
    "    plt.xlabel('step %d' %(step/(n_iter/100)))\n",
    "    plt.grid(True)\n",
    "    \n",
    "    plt.tight_layout()\n",
    "    display.display(plt.gcf())\n",
    "    display.clear_output(wait=True)\n",
    "    plt.close()\n",
    "    "
   ]
  },
  {
   "cell_type": "code",
   "execution_count": 170,
   "metadata": {},
   "outputs": [
    {
     "data": {
      "image/png": "[encoded data removed]",
      "text/plain": [
       "<Figure size 720x720 with 1 Axes>"
      ]
     },
     "metadata": {},
     "output_type": "display_data"
    }
   ],
   "source": [
    "def accuracy1(predictions, labels):\n",
    "    '''Compara dois vetores one-hot para produzir a acurácia'''\n",
    "    \n",
    "    pred_labels = np.argmax(predictions, 1)\n",
    "    true_labels = np.argmax(labels, 1)\n",
    "    \n",
    "    return (pred_labels == true_labels).mean() * 100\n",
    "\n",
    "# abre a sessão tf\n",
    "with tf.Session(graph=graph) as sess:\n",
    "    sess.run(init) # inicia as variáveis\n",
    "    \n",
    "    # cria o feed_dict de teste\n",
    "    val_dict = {\n",
    "        x_input: testing_data[:, 0:4], \n",
    "        y_input: testing_data[:, 4]\n",
    "    }\n",
    "    \n",
    "    arr_acc = []\n",
    "\n",
    "    for step in range(n_iter+1):\n",
    "        batch = training_data[np.random.choice(training_size, batch_size, False), :]\n",
    "        # cria o feed_dict de treino\n",
    "        feed_dict = {\n",
    "            x_input: batch[:, 0:4], \n",
    "            y_input: batch[:, 4]\n",
    "        }\n",
    "        \n",
    "        # executa a interação de treino\n",
    "        optimizer.run(feed_dict=feed_dict)\n",
    "        \n",
    "        # para mostrar o progresso a cada 10 iterações\n",
    "        if step % 10 == 0:\n",
    "            \n",
    "            # calcula a acurácia\n",
    "            acc = accuracy.eval(val_dict) * 100\n",
    "            \n",
    "            # adiciona no array o valor da acurácia de cada passo\n",
    "            arr_acc.append(acc)\n",
    "            \n",
    "            # mostra o gráfico de acurácia\n",
    "            show_chart_accuracy(arr_acc, step)\n",
    "            \n",
    "            # salva as variáveis do modelo\n",
    "            saver.save(sess, './tmp/deep_ann.ckpt')                   "
   ]
  },
  {
   "cell_type": "code",
   "execution_count": 337,
   "metadata": {},
   "outputs": [],
   "source": [
    "# PREDICT"
   ]
  },
  {
   "cell_type": "code",
   "execution_count": 171,
   "metadata": {},
   "outputs": [
    {
     "name": "stdout",
     "output_type": "stream",
     "text": [
      "INFO:tensorflow:Restoring parameters from ./tmp/deep_ann.ckpt\n",
      "Classificada como: ['setosa']\n"
     ]
    }
   ],
   "source": [
    "# para classificar espécies com base nas medidas das sépalas e pétalas\n",
    "with tf.Session(graph=graph) as sess:\n",
    "\n",
    "    # restaura o valor das variáveis\n",
    "    saver.restore(sess, './tmp/deep_ann.ckpt')\n",
    "    \n",
    "    # exemplo de medidas de uma espécie (comprimento e largura da sépala e pétala)\n",
    "    pred_dict = [[0.1, 3.2, 0.2, 0.3]]\n",
    "\n",
    "    # classifica a espécie\n",
    "    output_data_classify = outputs.eval({x_input: pred_dict})\n",
    "    \n",
    "    species = iris.target_names[output_data_classify]\n",
    "    \n",
    "    print('Classificada como: %s' %(species))"
   ]
  }
 ],
 "metadata": {
  "kernelspec": {
   "display_name": "Python 3",
   "language": "python",
   "name": "python3"
  },
  "language_info": {
   "codemirror_mode": {
    "name": "ipython",
    "version": 3
   },
   "file_extension": ".py",
   "mimetype": "text/x-python",
   "name": "python",
   "nbconvert_exporter": "python",
   "pygments_lexer": "ipython3",
   "version": "3.7.1"
  }
 },
 "nbformat": 4,
 "nbformat_minor": 2
}
